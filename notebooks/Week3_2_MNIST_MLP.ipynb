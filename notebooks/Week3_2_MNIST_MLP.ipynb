{
  "nbformat": 4,
  "nbformat_minor": 0,
  "metadata": {
    "kernelspec": {
      "display_name": "Python 3",
      "language": "python",
      "name": "python3"
    },
    "language_info": {
      "codemirror_mode": {
        "name": "ipython",
        "version": 3
      },
      "file_extension": ".py",
      "mimetype": "text/x-python",
      "name": "python",
      "nbconvert_exporter": "python",
      "pygments_lexer": "ipython3",
      "version": "3.6.9"
    },
    "colab": {
      "name": "Week3_1_MNIST_MLP.ipynb",
      "provenance": [],
      "collapsed_sections": []
    },
    "widgets": {
      "application/vnd.jupyter.widget-state+json": {
        "d710da444754428aa1d393afb6c3681d": {
          "model_module": "@jupyter-widgets/controls",
          "model_name": "HBoxModel",
          "state": {
            "_view_name": "HBoxView",
            "_dom_classes": [],
            "_model_name": "HBoxModel",
            "_view_module": "@jupyter-widgets/controls",
            "_model_module_version": "1.5.0",
            "_view_count": null,
            "_view_module_version": "1.5.0",
            "box_style": "",
            "layout": "IPY_MODEL_854a2fde861e45c7b8e5ed200a6556ba",
            "_model_module": "@jupyter-widgets/controls",
            "children": [
              "IPY_MODEL_dd0897afa44e4dcb92e6931a777ab721",
              "IPY_MODEL_78a5e48d410f4df686b3804228da0939"
            ]
          }
        },
        "854a2fde861e45c7b8e5ed200a6556ba": {
          "model_module": "@jupyter-widgets/base",
          "model_name": "LayoutModel",
          "state": {
            "_view_name": "LayoutView",
            "grid_template_rows": null,
            "right": null,
            "justify_content": null,
            "_view_module": "@jupyter-widgets/base",
            "overflow": null,
            "_model_module_version": "1.2.0",
            "_view_count": null,
            "flex_flow": null,
            "width": null,
            "min_width": null,
            "border": null,
            "align_items": null,
            "bottom": null,
            "_model_module": "@jupyter-widgets/base",
            "top": null,
            "grid_column": null,
            "overflow_y": null,
            "overflow_x": null,
            "grid_auto_flow": null,
            "grid_area": null,
            "grid_template_columns": null,
            "flex": null,
            "_model_name": "LayoutModel",
            "justify_items": null,
            "grid_row": null,
            "max_height": null,
            "align_content": null,
            "visibility": null,
            "align_self": null,
            "height": null,
            "min_height": null,
            "padding": null,
            "grid_auto_rows": null,
            "grid_gap": null,
            "max_width": null,
            "order": null,
            "_view_module_version": "1.2.0",
            "grid_template_areas": null,
            "object_position": null,
            "object_fit": null,
            "grid_auto_columns": null,
            "margin": null,
            "display": null,
            "left": null
          }
        },
        "dd0897afa44e4dcb92e6931a777ab721": {
          "model_module": "@jupyter-widgets/controls",
          "model_name": "FloatProgressModel",
          "state": {
            "_view_name": "ProgressView",
            "style": "IPY_MODEL_b30b7f31890d4dae9d45537d4cc76059",
            "_dom_classes": [],
            "description": "",
            "_model_name": "FloatProgressModel",
            "bar_style": "success",
            "max": 1,
            "_view_module": "@jupyter-widgets/controls",
            "_model_module_version": "1.5.0",
            "value": 1,
            "_view_count": null,
            "_view_module_version": "1.5.0",
            "orientation": "horizontal",
            "min": 0,
            "description_tooltip": null,
            "_model_module": "@jupyter-widgets/controls",
            "layout": "IPY_MODEL_e118cefa93244d2f892937be9d83b05e"
          }
        },
        "78a5e48d410f4df686b3804228da0939": {
          "model_module": "@jupyter-widgets/controls",
          "model_name": "HTMLModel",
          "state": {
            "_view_name": "HTMLView",
            "style": "IPY_MODEL_97e58be406f34f4abdbdc17542a22dac",
            "_dom_classes": [],
            "description": "",
            "_model_name": "HTMLModel",
            "placeholder": "​",
            "_view_module": "@jupyter-widgets/controls",
            "_model_module_version": "1.5.0",
            "value": " 9920512/? [00:01&lt;00:00, 5674831.83it/s]",
            "_view_count": null,
            "_view_module_version": "1.5.0",
            "description_tooltip": null,
            "_model_module": "@jupyter-widgets/controls",
            "layout": "IPY_MODEL_846ce1c9f2c043c3990393773b3adba7"
          }
        },
        "b30b7f31890d4dae9d45537d4cc76059": {
          "model_module": "@jupyter-widgets/controls",
          "model_name": "ProgressStyleModel",
          "state": {
            "_view_name": "StyleView",
            "_model_name": "ProgressStyleModel",
            "description_width": "initial",
            "_view_module": "@jupyter-widgets/base",
            "_model_module_version": "1.5.0",
            "_view_count": null,
            "_view_module_version": "1.2.0",
            "bar_color": null,
            "_model_module": "@jupyter-widgets/controls"
          }
        },
        "e118cefa93244d2f892937be9d83b05e": {
          "model_module": "@jupyter-widgets/base",
          "model_name": "LayoutModel",
          "state": {
            "_view_name": "LayoutView",
            "grid_template_rows": null,
            "right": null,
            "justify_content": null,
            "_view_module": "@jupyter-widgets/base",
            "overflow": null,
            "_model_module_version": "1.2.0",
            "_view_count": null,
            "flex_flow": null,
            "width": null,
            "min_width": null,
            "border": null,
            "align_items": null,
            "bottom": null,
            "_model_module": "@jupyter-widgets/base",
            "top": null,
            "grid_column": null,
            "overflow_y": null,
            "overflow_x": null,
            "grid_auto_flow": null,
            "grid_area": null,
            "grid_template_columns": null,
            "flex": null,
            "_model_name": "LayoutModel",
            "justify_items": null,
            "grid_row": null,
            "max_height": null,
            "align_content": null,
            "visibility": null,
            "align_self": null,
            "height": null,
            "min_height": null,
            "padding": null,
            "grid_auto_rows": null,
            "grid_gap": null,
            "max_width": null,
            "order": null,
            "_view_module_version": "1.2.0",
            "grid_template_areas": null,
            "object_position": null,
            "object_fit": null,
            "grid_auto_columns": null,
            "margin": null,
            "display": null,
            "left": null
          }
        },
        "97e58be406f34f4abdbdc17542a22dac": {
          "model_module": "@jupyter-widgets/controls",
          "model_name": "DescriptionStyleModel",
          "state": {
            "_view_name": "StyleView",
            "_model_name": "DescriptionStyleModel",
            "description_width": "",
            "_view_module": "@jupyter-widgets/base",
            "_model_module_version": "1.5.0",
            "_view_count": null,
            "_view_module_version": "1.2.0",
            "_model_module": "@jupyter-widgets/controls"
          }
        },
        "846ce1c9f2c043c3990393773b3adba7": {
          "model_module": "@jupyter-widgets/base",
          "model_name": "LayoutModel",
          "state": {
            "_view_name": "LayoutView",
            "grid_template_rows": null,
            "right": null,
            "justify_content": null,
            "_view_module": "@jupyter-widgets/base",
            "overflow": null,
            "_model_module_version": "1.2.0",
            "_view_count": null,
            "flex_flow": null,
            "width": null,
            "min_width": null,
            "border": null,
            "align_items": null,
            "bottom": null,
            "_model_module": "@jupyter-widgets/base",
            "top": null,
            "grid_column": null,
            "overflow_y": null,
            "overflow_x": null,
            "grid_auto_flow": null,
            "grid_area": null,
            "grid_template_columns": null,
            "flex": null,
            "_model_name": "LayoutModel",
            "justify_items": null,
            "grid_row": null,
            "max_height": null,
            "align_content": null,
            "visibility": null,
            "align_self": null,
            "height": null,
            "min_height": null,
            "padding": null,
            "grid_auto_rows": null,
            "grid_gap": null,
            "max_width": null,
            "order": null,
            "_view_module_version": "1.2.0",
            "grid_template_areas": null,
            "object_position": null,
            "object_fit": null,
            "grid_auto_columns": null,
            "margin": null,
            "display": null,
            "left": null
          }
        },
        "af7553c4bbeb4372b6ec563904475428": {
          "model_module": "@jupyter-widgets/controls",
          "model_name": "HBoxModel",
          "state": {
            "_view_name": "HBoxView",
            "_dom_classes": [],
            "_model_name": "HBoxModel",
            "_view_module": "@jupyter-widgets/controls",
            "_model_module_version": "1.5.0",
            "_view_count": null,
            "_view_module_version": "1.5.0",
            "box_style": "",
            "layout": "IPY_MODEL_8f87f97e76804322b15464a721f79ea9",
            "_model_module": "@jupyter-widgets/controls",
            "children": [
              "IPY_MODEL_615af686296e40bea9260a9bbe27198a",
              "IPY_MODEL_16c03432d6d742818c57af93c4c3ff35"
            ]
          }
        },
        "8f87f97e76804322b15464a721f79ea9": {
          "model_module": "@jupyter-widgets/base",
          "model_name": "LayoutModel",
          "state": {
            "_view_name": "LayoutView",
            "grid_template_rows": null,
            "right": null,
            "justify_content": null,
            "_view_module": "@jupyter-widgets/base",
            "overflow": null,
            "_model_module_version": "1.2.0",
            "_view_count": null,
            "flex_flow": null,
            "width": null,
            "min_width": null,
            "border": null,
            "align_items": null,
            "bottom": null,
            "_model_module": "@jupyter-widgets/base",
            "top": null,
            "grid_column": null,
            "overflow_y": null,
            "overflow_x": null,
            "grid_auto_flow": null,
            "grid_area": null,
            "grid_template_columns": null,
            "flex": null,
            "_model_name": "LayoutModel",
            "justify_items": null,
            "grid_row": null,
            "max_height": null,
            "align_content": null,
            "visibility": null,
            "align_self": null,
            "height": null,
            "min_height": null,
            "padding": null,
            "grid_auto_rows": null,
            "grid_gap": null,
            "max_width": null,
            "order": null,
            "_view_module_version": "1.2.0",
            "grid_template_areas": null,
            "object_position": null,
            "object_fit": null,
            "grid_auto_columns": null,
            "margin": null,
            "display": null,
            "left": null
          }
        },
        "615af686296e40bea9260a9bbe27198a": {
          "model_module": "@jupyter-widgets/controls",
          "model_name": "FloatProgressModel",
          "state": {
            "_view_name": "ProgressView",
            "style": "IPY_MODEL_e38598212a0642829469451c1154334e",
            "_dom_classes": [],
            "description": "",
            "_model_name": "FloatProgressModel",
            "bar_style": "success",
            "max": 1,
            "_view_module": "@jupyter-widgets/controls",
            "_model_module_version": "1.5.0",
            "value": 1,
            "_view_count": null,
            "_view_module_version": "1.5.0",
            "orientation": "horizontal",
            "min": 0,
            "description_tooltip": null,
            "_model_module": "@jupyter-widgets/controls",
            "layout": "IPY_MODEL_b23a6c56bb0343488b0359e82852281d"
          }
        },
        "16c03432d6d742818c57af93c4c3ff35": {
          "model_module": "@jupyter-widgets/controls",
          "model_name": "HTMLModel",
          "state": {
            "_view_name": "HTMLView",
            "style": "IPY_MODEL_0abc631fce5f435da55b4e3ca5557f04",
            "_dom_classes": [],
            "description": "",
            "_model_name": "HTMLModel",
            "placeholder": "​",
            "_view_module": "@jupyter-widgets/controls",
            "_model_module_version": "1.5.0",
            "value": " 32768/? [00:00&lt;00:00, 73288.50it/s]",
            "_view_count": null,
            "_view_module_version": "1.5.0",
            "description_tooltip": null,
            "_model_module": "@jupyter-widgets/controls",
            "layout": "IPY_MODEL_d26d18db9f0b4dd39fe13a20b2c15a7d"
          }
        },
        "e38598212a0642829469451c1154334e": {
          "model_module": "@jupyter-widgets/controls",
          "model_name": "ProgressStyleModel",
          "state": {
            "_view_name": "StyleView",
            "_model_name": "ProgressStyleModel",
            "description_width": "initial",
            "_view_module": "@jupyter-widgets/base",
            "_model_module_version": "1.5.0",
            "_view_count": null,
            "_view_module_version": "1.2.0",
            "bar_color": null,
            "_model_module": "@jupyter-widgets/controls"
          }
        },
        "b23a6c56bb0343488b0359e82852281d": {
          "model_module": "@jupyter-widgets/base",
          "model_name": "LayoutModel",
          "state": {
            "_view_name": "LayoutView",
            "grid_template_rows": null,
            "right": null,
            "justify_content": null,
            "_view_module": "@jupyter-widgets/base",
            "overflow": null,
            "_model_module_version": "1.2.0",
            "_view_count": null,
            "flex_flow": null,
            "width": null,
            "min_width": null,
            "border": null,
            "align_items": null,
            "bottom": null,
            "_model_module": "@jupyter-widgets/base",
            "top": null,
            "grid_column": null,
            "overflow_y": null,
            "overflow_x": null,
            "grid_auto_flow": null,
            "grid_area": null,
            "grid_template_columns": null,
            "flex": null,
            "_model_name": "LayoutModel",
            "justify_items": null,
            "grid_row": null,
            "max_height": null,
            "align_content": null,
            "visibility": null,
            "align_self": null,
            "height": null,
            "min_height": null,
            "padding": null,
            "grid_auto_rows": null,
            "grid_gap": null,
            "max_width": null,
            "order": null,
            "_view_module_version": "1.2.0",
            "grid_template_areas": null,
            "object_position": null,
            "object_fit": null,
            "grid_auto_columns": null,
            "margin": null,
            "display": null,
            "left": null
          }
        },
        "0abc631fce5f435da55b4e3ca5557f04": {
          "model_module": "@jupyter-widgets/controls",
          "model_name": "DescriptionStyleModel",
          "state": {
            "_view_name": "StyleView",
            "_model_name": "DescriptionStyleModel",
            "description_width": "",
            "_view_module": "@jupyter-widgets/base",
            "_model_module_version": "1.5.0",
            "_view_count": null,
            "_view_module_version": "1.2.0",
            "_model_module": "@jupyter-widgets/controls"
          }
        },
        "d26d18db9f0b4dd39fe13a20b2c15a7d": {
          "model_module": "@jupyter-widgets/base",
          "model_name": "LayoutModel",
          "state": {
            "_view_name": "LayoutView",
            "grid_template_rows": null,
            "right": null,
            "justify_content": null,
            "_view_module": "@jupyter-widgets/base",
            "overflow": null,
            "_model_module_version": "1.2.0",
            "_view_count": null,
            "flex_flow": null,
            "width": null,
            "min_width": null,
            "border": null,
            "align_items": null,
            "bottom": null,
            "_model_module": "@jupyter-widgets/base",
            "top": null,
            "grid_column": null,
            "overflow_y": null,
            "overflow_x": null,
            "grid_auto_flow": null,
            "grid_area": null,
            "grid_template_columns": null,
            "flex": null,
            "_model_name": "LayoutModel",
            "justify_items": null,
            "grid_row": null,
            "max_height": null,
            "align_content": null,
            "visibility": null,
            "align_self": null,
            "height": null,
            "min_height": null,
            "padding": null,
            "grid_auto_rows": null,
            "grid_gap": null,
            "max_width": null,
            "order": null,
            "_view_module_version": "1.2.0",
            "grid_template_areas": null,
            "object_position": null,
            "object_fit": null,
            "grid_auto_columns": null,
            "margin": null,
            "display": null,
            "left": null
          }
        },
        "fd3fb1ba49e74fe4941093b07a443239": {
          "model_module": "@jupyter-widgets/controls",
          "model_name": "HBoxModel",
          "state": {
            "_view_name": "HBoxView",
            "_dom_classes": [],
            "_model_name": "HBoxModel",
            "_view_module": "@jupyter-widgets/controls",
            "_model_module_version": "1.5.0",
            "_view_count": null,
            "_view_module_version": "1.5.0",
            "box_style": "",
            "layout": "IPY_MODEL_f4f31de520474253b3362817328dcab3",
            "_model_module": "@jupyter-widgets/controls",
            "children": [
              "IPY_MODEL_2163d6a7a5ef470f9d804feb80d087ce",
              "IPY_MODEL_799ce111f0164c858c5f34a5d18a78cf"
            ]
          }
        },
        "f4f31de520474253b3362817328dcab3": {
          "model_module": "@jupyter-widgets/base",
          "model_name": "LayoutModel",
          "state": {
            "_view_name": "LayoutView",
            "grid_template_rows": null,
            "right": null,
            "justify_content": null,
            "_view_module": "@jupyter-widgets/base",
            "overflow": null,
            "_model_module_version": "1.2.0",
            "_view_count": null,
            "flex_flow": null,
            "width": null,
            "min_width": null,
            "border": null,
            "align_items": null,
            "bottom": null,
            "_model_module": "@jupyter-widgets/base",
            "top": null,
            "grid_column": null,
            "overflow_y": null,
            "overflow_x": null,
            "grid_auto_flow": null,
            "grid_area": null,
            "grid_template_columns": null,
            "flex": null,
            "_model_name": "LayoutModel",
            "justify_items": null,
            "grid_row": null,
            "max_height": null,
            "align_content": null,
            "visibility": null,
            "align_self": null,
            "height": null,
            "min_height": null,
            "padding": null,
            "grid_auto_rows": null,
            "grid_gap": null,
            "max_width": null,
            "order": null,
            "_view_module_version": "1.2.0",
            "grid_template_areas": null,
            "object_position": null,
            "object_fit": null,
            "grid_auto_columns": null,
            "margin": null,
            "display": null,
            "left": null
          }
        },
        "2163d6a7a5ef470f9d804feb80d087ce": {
          "model_module": "@jupyter-widgets/controls",
          "model_name": "FloatProgressModel",
          "state": {
            "_view_name": "ProgressView",
            "style": "IPY_MODEL_e0124498d2174180b3dc1a0f27ebea98",
            "_dom_classes": [],
            "description": "",
            "_model_name": "FloatProgressModel",
            "bar_style": "success",
            "max": 1,
            "_view_module": "@jupyter-widgets/controls",
            "_model_module_version": "1.5.0",
            "value": 1,
            "_view_count": null,
            "_view_module_version": "1.5.0",
            "orientation": "horizontal",
            "min": 0,
            "description_tooltip": null,
            "_model_module": "@jupyter-widgets/controls",
            "layout": "IPY_MODEL_1de249cebe1e4710a61c66ba90b0adb6"
          }
        },
        "799ce111f0164c858c5f34a5d18a78cf": {
          "model_module": "@jupyter-widgets/controls",
          "model_name": "HTMLModel",
          "state": {
            "_view_name": "HTMLView",
            "style": "IPY_MODEL_8bb1f2867d2f46f289742361ecdc6b96",
            "_dom_classes": [],
            "description": "",
            "_model_name": "HTMLModel",
            "placeholder": "​",
            "_view_module": "@jupyter-widgets/controls",
            "_model_module_version": "1.5.0",
            "value": " 1654784/? [00:00&lt;00:00, 5163065.13it/s]",
            "_view_count": null,
            "_view_module_version": "1.5.0",
            "description_tooltip": null,
            "_model_module": "@jupyter-widgets/controls",
            "layout": "IPY_MODEL_e1898b12d10f4370bd8666bccadc0ee7"
          }
        },
        "e0124498d2174180b3dc1a0f27ebea98": {
          "model_module": "@jupyter-widgets/controls",
          "model_name": "ProgressStyleModel",
          "state": {
            "_view_name": "StyleView",
            "_model_name": "ProgressStyleModel",
            "description_width": "initial",
            "_view_module": "@jupyter-widgets/base",
            "_model_module_version": "1.5.0",
            "_view_count": null,
            "_view_module_version": "1.2.0",
            "bar_color": null,
            "_model_module": "@jupyter-widgets/controls"
          }
        },
        "1de249cebe1e4710a61c66ba90b0adb6": {
          "model_module": "@jupyter-widgets/base",
          "model_name": "LayoutModel",
          "state": {
            "_view_name": "LayoutView",
            "grid_template_rows": null,
            "right": null,
            "justify_content": null,
            "_view_module": "@jupyter-widgets/base",
            "overflow": null,
            "_model_module_version": "1.2.0",
            "_view_count": null,
            "flex_flow": null,
            "width": null,
            "min_width": null,
            "border": null,
            "align_items": null,
            "bottom": null,
            "_model_module": "@jupyter-widgets/base",
            "top": null,
            "grid_column": null,
            "overflow_y": null,
            "overflow_x": null,
            "grid_auto_flow": null,
            "grid_area": null,
            "grid_template_columns": null,
            "flex": null,
            "_model_name": "LayoutModel",
            "justify_items": null,
            "grid_row": null,
            "max_height": null,
            "align_content": null,
            "visibility": null,
            "align_self": null,
            "height": null,
            "min_height": null,
            "padding": null,
            "grid_auto_rows": null,
            "grid_gap": null,
            "max_width": null,
            "order": null,
            "_view_module_version": "1.2.0",
            "grid_template_areas": null,
            "object_position": null,
            "object_fit": null,
            "grid_auto_columns": null,
            "margin": null,
            "display": null,
            "left": null
          }
        },
        "8bb1f2867d2f46f289742361ecdc6b96": {
          "model_module": "@jupyter-widgets/controls",
          "model_name": "DescriptionStyleModel",
          "state": {
            "_view_name": "StyleView",
            "_model_name": "DescriptionStyleModel",
            "description_width": "",
            "_view_module": "@jupyter-widgets/base",
            "_model_module_version": "1.5.0",
            "_view_count": null,
            "_view_module_version": "1.2.0",
            "_model_module": "@jupyter-widgets/controls"
          }
        },
        "e1898b12d10f4370bd8666bccadc0ee7": {
          "model_module": "@jupyter-widgets/base",
          "model_name": "LayoutModel",
          "state": {
            "_view_name": "LayoutView",
            "grid_template_rows": null,
            "right": null,
            "justify_content": null,
            "_view_module": "@jupyter-widgets/base",
            "overflow": null,
            "_model_module_version": "1.2.0",
            "_view_count": null,
            "flex_flow": null,
            "width": null,
            "min_width": null,
            "border": null,
            "align_items": null,
            "bottom": null,
            "_model_module": "@jupyter-widgets/base",
            "top": null,
            "grid_column": null,
            "overflow_y": null,
            "overflow_x": null,
            "grid_auto_flow": null,
            "grid_area": null,
            "grid_template_columns": null,
            "flex": null,
            "_model_name": "LayoutModel",
            "justify_items": null,
            "grid_row": null,
            "max_height": null,
            "align_content": null,
            "visibility": null,
            "align_self": null,
            "height": null,
            "min_height": null,
            "padding": null,
            "grid_auto_rows": null,
            "grid_gap": null,
            "max_width": null,
            "order": null,
            "_view_module_version": "1.2.0",
            "grid_template_areas": null,
            "object_position": null,
            "object_fit": null,
            "grid_auto_columns": null,
            "margin": null,
            "display": null,
            "left": null
          }
        },
        "900504150cda4858bd77fa2148afd48d": {
          "model_module": "@jupyter-widgets/controls",
          "model_name": "HBoxModel",
          "state": {
            "_view_name": "HBoxView",
            "_dom_classes": [],
            "_model_name": "HBoxModel",
            "_view_module": "@jupyter-widgets/controls",
            "_model_module_version": "1.5.0",
            "_view_count": null,
            "_view_module_version": "1.5.0",
            "box_style": "",
            "layout": "IPY_MODEL_214ae55efa544fa5838f70960fff27f9",
            "_model_module": "@jupyter-widgets/controls",
            "children": [
              "IPY_MODEL_0ad5fa08e30b426b81d51848e824c7ae",
              "IPY_MODEL_37184327c6314598a74b162743ec2f05"
            ]
          }
        },
        "214ae55efa544fa5838f70960fff27f9": {
          "model_module": "@jupyter-widgets/base",
          "model_name": "LayoutModel",
          "state": {
            "_view_name": "LayoutView",
            "grid_template_rows": null,
            "right": null,
            "justify_content": null,
            "_view_module": "@jupyter-widgets/base",
            "overflow": null,
            "_model_module_version": "1.2.0",
            "_view_count": null,
            "flex_flow": null,
            "width": null,
            "min_width": null,
            "border": null,
            "align_items": null,
            "bottom": null,
            "_model_module": "@jupyter-widgets/base",
            "top": null,
            "grid_column": null,
            "overflow_y": null,
            "overflow_x": null,
            "grid_auto_flow": null,
            "grid_area": null,
            "grid_template_columns": null,
            "flex": null,
            "_model_name": "LayoutModel",
            "justify_items": null,
            "grid_row": null,
            "max_height": null,
            "align_content": null,
            "visibility": null,
            "align_self": null,
            "height": null,
            "min_height": null,
            "padding": null,
            "grid_auto_rows": null,
            "grid_gap": null,
            "max_width": null,
            "order": null,
            "_view_module_version": "1.2.0",
            "grid_template_areas": null,
            "object_position": null,
            "object_fit": null,
            "grid_auto_columns": null,
            "margin": null,
            "display": null,
            "left": null
          }
        },
        "0ad5fa08e30b426b81d51848e824c7ae": {
          "model_module": "@jupyter-widgets/controls",
          "model_name": "FloatProgressModel",
          "state": {
            "_view_name": "ProgressView",
            "style": "IPY_MODEL_49d2f65d42cd4332b0b71d4d5978d4f2",
            "_dom_classes": [],
            "description": "",
            "_model_name": "FloatProgressModel",
            "bar_style": "success",
            "max": 1,
            "_view_module": "@jupyter-widgets/controls",
            "_model_module_version": "1.5.0",
            "value": 1,
            "_view_count": null,
            "_view_module_version": "1.5.0",
            "orientation": "horizontal",
            "min": 0,
            "description_tooltip": null,
            "_model_module": "@jupyter-widgets/controls",
            "layout": "IPY_MODEL_dbf686f92fb443ed98129c89a636b558"
          }
        },
        "37184327c6314598a74b162743ec2f05": {
          "model_module": "@jupyter-widgets/controls",
          "model_name": "HTMLModel",
          "state": {
            "_view_name": "HTMLView",
            "style": "IPY_MODEL_bc720be5dd7a4e38924a614da6ca49e8",
            "_dom_classes": [],
            "description": "",
            "_model_name": "HTMLModel",
            "placeholder": "​",
            "_view_module": "@jupyter-widgets/controls",
            "_model_module_version": "1.5.0",
            "value": " 8192/? [00:00&lt;00:00, 15072.65it/s]",
            "_view_count": null,
            "_view_module_version": "1.5.0",
            "description_tooltip": null,
            "_model_module": "@jupyter-widgets/controls",
            "layout": "IPY_MODEL_24464b6f0cf74f6d828010f4b105dede"
          }
        },
        "49d2f65d42cd4332b0b71d4d5978d4f2": {
          "model_module": "@jupyter-widgets/controls",
          "model_name": "ProgressStyleModel",
          "state": {
            "_view_name": "StyleView",
            "_model_name": "ProgressStyleModel",
            "description_width": "initial",
            "_view_module": "@jupyter-widgets/base",
            "_model_module_version": "1.5.0",
            "_view_count": null,
            "_view_module_version": "1.2.0",
            "bar_color": null,
            "_model_module": "@jupyter-widgets/controls"
          }
        },
        "dbf686f92fb443ed98129c89a636b558": {
          "model_module": "@jupyter-widgets/base",
          "model_name": "LayoutModel",
          "state": {
            "_view_name": "LayoutView",
            "grid_template_rows": null,
            "right": null,
            "justify_content": null,
            "_view_module": "@jupyter-widgets/base",
            "overflow": null,
            "_model_module_version": "1.2.0",
            "_view_count": null,
            "flex_flow": null,
            "width": null,
            "min_width": null,
            "border": null,
            "align_items": null,
            "bottom": null,
            "_model_module": "@jupyter-widgets/base",
            "top": null,
            "grid_column": null,
            "overflow_y": null,
            "overflow_x": null,
            "grid_auto_flow": null,
            "grid_area": null,
            "grid_template_columns": null,
            "flex": null,
            "_model_name": "LayoutModel",
            "justify_items": null,
            "grid_row": null,
            "max_height": null,
            "align_content": null,
            "visibility": null,
            "align_self": null,
            "height": null,
            "min_height": null,
            "padding": null,
            "grid_auto_rows": null,
            "grid_gap": null,
            "max_width": null,
            "order": null,
            "_view_module_version": "1.2.0",
            "grid_template_areas": null,
            "object_position": null,
            "object_fit": null,
            "grid_auto_columns": null,
            "margin": null,
            "display": null,
            "left": null
          }
        },
        "bc720be5dd7a4e38924a614da6ca49e8": {
          "model_module": "@jupyter-widgets/controls",
          "model_name": "DescriptionStyleModel",
          "state": {
            "_view_name": "StyleView",
            "_model_name": "DescriptionStyleModel",
            "description_width": "",
            "_view_module": "@jupyter-widgets/base",
            "_model_module_version": "1.5.0",
            "_view_count": null,
            "_view_module_version": "1.2.0",
            "_model_module": "@jupyter-widgets/controls"
          }
        },
        "24464b6f0cf74f6d828010f4b105dede": {
          "model_module": "@jupyter-widgets/base",
          "model_name": "LayoutModel",
          "state": {
            "_view_name": "LayoutView",
            "grid_template_rows": null,
            "right": null,
            "justify_content": null,
            "_view_module": "@jupyter-widgets/base",
            "overflow": null,
            "_model_module_version": "1.2.0",
            "_view_count": null,
            "flex_flow": null,
            "width": null,
            "min_width": null,
            "border": null,
            "align_items": null,
            "bottom": null,
            "_model_module": "@jupyter-widgets/base",
            "top": null,
            "grid_column": null,
            "overflow_y": null,
            "overflow_x": null,
            "grid_auto_flow": null,
            "grid_area": null,
            "grid_template_columns": null,
            "flex": null,
            "_model_name": "LayoutModel",
            "justify_items": null,
            "grid_row": null,
            "max_height": null,
            "align_content": null,
            "visibility": null,
            "align_self": null,
            "height": null,
            "min_height": null,
            "padding": null,
            "grid_auto_rows": null,
            "grid_gap": null,
            "max_width": null,
            "order": null,
            "_view_module_version": "1.2.0",
            "grid_template_areas": null,
            "object_position": null,
            "object_fit": null,
            "grid_auto_columns": null,
            "margin": null,
            "display": null,
            "left": null
          }
        }
      }
    }
  },
  "cells": [
    {
      "cell_type": "markdown",
      "metadata": {
        "id": "NbGJrLaiTjOP",
        "colab_type": "text"
      },
      "source": [
        "# MNIST handwritten digits classification with MLPs\n",
        "\n",
        "In this notebook, we'll train a multi-layer perceptron model to classify MNIST digits using **PyTorch**. \n",
        "\n",
        "First, the needed imports. "
      ]
    },
    {
      "cell_type": "code",
      "metadata": {
        "id": "hrHSyKpFTjOQ",
        "colab_type": "code",
        "colab": {
          "base_uri": "https://localhost:8080/",
          "height": 35
        },
        "outputId": "d0cd2e42-2428-49b7-c0d0-107f020fb0a8"
      },
      "source": [
        "%matplotlib inline\n",
        "\n",
        "import torch\n",
        "import torch.nn as nn\n",
        "import torch.nn.functional as F\n",
        "import torch.optim as optim\n",
        "from torchvision import datasets, transforms\n",
        "from torch.autograd import Variable\n",
        "\n",
        "import numpy as np\n",
        "import matplotlib.pyplot as plt\n",
        "\n",
        "cuda = torch.cuda.is_available()\n",
        "print('Using PyTorch version:', torch.__version__, 'CUDA:', cuda)\n",
        "\n",
        "#torch.manual_seed(42)\n",
        "#if cuda:\n",
        "#    torch.cuda.manual_seed(42)"
      ],
      "execution_count": 3,
      "outputs": [
        {
          "output_type": "stream",
          "text": [
            "Using PyTorch version: 1.6.0+cu101 CUDA: False\n"
          ],
          "name": "stdout"
        }
      ]
    },
    {
      "cell_type": "markdown",
      "metadata": {
        "id": "LPufBSd-TjOT",
        "colab_type": "text"
      },
      "source": [
        "## Data\n",
        "\n",
        "Next we'll load the MNIST data.  First time we may have to download the data, which can take a while.\n",
        "\n",
        "Note that we are here using the MNIST test data for *validation*, instead of for testing the final model."
      ]
    },
    {
      "cell_type": "code",
      "metadata": {
        "id": "yc3e1OejTjOT",
        "colab_type": "code",
        "colab": {
          "base_uri": "https://localhost:8080/",
          "height": 417,
          "referenced_widgets": [
            "d710da444754428aa1d393afb6c3681d",
            "854a2fde861e45c7b8e5ed200a6556ba",
            "dd0897afa44e4dcb92e6931a777ab721",
            "78a5e48d410f4df686b3804228da0939",
            "b30b7f31890d4dae9d45537d4cc76059",
            "e118cefa93244d2f892937be9d83b05e",
            "97e58be406f34f4abdbdc17542a22dac",
            "846ce1c9f2c043c3990393773b3adba7",
            "af7553c4bbeb4372b6ec563904475428",
            "8f87f97e76804322b15464a721f79ea9",
            "615af686296e40bea9260a9bbe27198a",
            "16c03432d6d742818c57af93c4c3ff35",
            "e38598212a0642829469451c1154334e",
            "b23a6c56bb0343488b0359e82852281d",
            "0abc631fce5f435da55b4e3ca5557f04",
            "d26d18db9f0b4dd39fe13a20b2c15a7d",
            "fd3fb1ba49e74fe4941093b07a443239",
            "f4f31de520474253b3362817328dcab3",
            "2163d6a7a5ef470f9d804feb80d087ce",
            "799ce111f0164c858c5f34a5d18a78cf",
            "e0124498d2174180b3dc1a0f27ebea98",
            "1de249cebe1e4710a61c66ba90b0adb6",
            "8bb1f2867d2f46f289742361ecdc6b96",
            "e1898b12d10f4370bd8666bccadc0ee7",
            "900504150cda4858bd77fa2148afd48d",
            "214ae55efa544fa5838f70960fff27f9",
            "0ad5fa08e30b426b81d51848e824c7ae",
            "37184327c6314598a74b162743ec2f05",
            "49d2f65d42cd4332b0b71d4d5978d4f2",
            "dbf686f92fb443ed98129c89a636b558",
            "bc720be5dd7a4e38924a614da6ca49e8",
            "24464b6f0cf74f6d828010f4b105dede"
          ]
        },
        "outputId": "bfb8e458-b62d-489d-a558-5652988fb1e6"
      },
      "source": [
        "batch_size = 32\n",
        "\n",
        "kwargs = {'num_workers': 1, 'pin_memory': True} if cuda else {}\n",
        "\n",
        "train_loader = torch.utils.data.DataLoader(\n",
        "    datasets.MNIST('../data', train=True, download=True,\n",
        "                   transform=transforms.Compose([\n",
        "                       transforms.ToTensor(),\n",
        "                       transforms.Normalize((0.1307,), (0.3081,))\n",
        "                   ])),\n",
        "    batch_size=batch_size, shuffle=True, **kwargs)\n",
        "\n",
        "validation_loader = torch.utils.data.DataLoader(\n",
        "    datasets.MNIST('../data', train=False, transform=transforms.Compose([\n",
        "                       transforms.ToTensor(),\n",
        "                       transforms.Normalize((0.1307,), (0.3081,))\n",
        "                   ])),\n",
        "    batch_size=batch_size, shuffle=False, **kwargs)"
      ],
      "execution_count": 4,
      "outputs": [
        {
          "output_type": "stream",
          "text": [
            "Downloading http://yann.lecun.com/exdb/mnist/train-images-idx3-ubyte.gz to ../data/MNIST/raw/train-images-idx3-ubyte.gz\n"
          ],
          "name": "stdout"
        },
        {
          "output_type": "display_data",
          "data": {
            "application/vnd.jupyter.widget-view+json": {
              "model_id": "d710da444754428aa1d393afb6c3681d",
              "version_minor": 0,
              "version_major": 2
            },
            "text/plain": [
              "HBox(children=(FloatProgress(value=1.0, bar_style='info', max=1.0), HTML(value='')))"
            ]
          },
          "metadata": {
            "tags": []
          }
        },
        {
          "output_type": "stream",
          "text": [
            "Extracting ../data/MNIST/raw/train-images-idx3-ubyte.gz to ../data/MNIST/raw\n",
            "Downloading http://yann.lecun.com/exdb/mnist/train-labels-idx1-ubyte.gz to ../data/MNIST/raw/train-labels-idx1-ubyte.gz\n"
          ],
          "name": "stdout"
        },
        {
          "output_type": "display_data",
          "data": {
            "application/vnd.jupyter.widget-view+json": {
              "model_id": "af7553c4bbeb4372b6ec563904475428",
              "version_minor": 0,
              "version_major": 2
            },
            "text/plain": [
              "HBox(children=(FloatProgress(value=1.0, bar_style='info', max=1.0), HTML(value='')))"
            ]
          },
          "metadata": {
            "tags": []
          }
        },
        {
          "output_type": "stream",
          "text": [
            "Extracting ../data/MNIST/raw/train-labels-idx1-ubyte.gz to ../data/MNIST/raw\n",
            "Downloading http://yann.lecun.com/exdb/mnist/t10k-images-idx3-ubyte.gz to ../data/MNIST/raw/t10k-images-idx3-ubyte.gz\n"
          ],
          "name": "stdout"
        },
        {
          "output_type": "display_data",
          "data": {
            "application/vnd.jupyter.widget-view+json": {
              "model_id": "fd3fb1ba49e74fe4941093b07a443239",
              "version_minor": 0,
              "version_major": 2
            },
            "text/plain": [
              "HBox(children=(FloatProgress(value=1.0, bar_style='info', max=1.0), HTML(value='')))"
            ]
          },
          "metadata": {
            "tags": []
          }
        },
        {
          "output_type": "stream",
          "text": [
            "Extracting ../data/MNIST/raw/t10k-images-idx3-ubyte.gz to ../data/MNIST/raw\n",
            "Downloading http://yann.lecun.com/exdb/mnist/t10k-labels-idx1-ubyte.gz to ../data/MNIST/raw/t10k-labels-idx1-ubyte.gz\n",
            "\n",
            "\n"
          ],
          "name": "stdout"
        },
        {
          "output_type": "display_data",
          "data": {
            "application/vnd.jupyter.widget-view+json": {
              "model_id": "900504150cda4858bd77fa2148afd48d",
              "version_minor": 0,
              "version_major": 2
            },
            "text/plain": [
              "HBox(children=(FloatProgress(value=1.0, bar_style='info', max=1.0), HTML(value='')))"
            ]
          },
          "metadata": {
            "tags": []
          }
        },
        {
          "output_type": "stream",
          "text": [
            "Extracting ../data/MNIST/raw/t10k-labels-idx1-ubyte.gz to ../data/MNIST/raw\n",
            "Processing...\n"
          ],
          "name": "stdout"
        },
        {
          "output_type": "stream",
          "text": [
            "/usr/local/lib/python3.6/dist-packages/torchvision/datasets/mnist.py:469: UserWarning: The given NumPy array is not writeable, and PyTorch does not support non-writeable tensors. This means you can write to the underlying (supposedly non-writeable) NumPy array using the tensor. You may want to copy the array to protect its data or make it writeable before converting it to a tensor. This type of warning will be suppressed for the rest of this program. (Triggered internally at  /pytorch/torch/csrc/utils/tensor_numpy.cpp:141.)\n",
            "  return torch.from_numpy(parsed.astype(m[2], copy=False)).view(*s)\n"
          ],
          "name": "stderr"
        },
        {
          "output_type": "stream",
          "text": [
            "Done!\n"
          ],
          "name": "stdout"
        }
      ]
    },
    {
      "cell_type": "markdown",
      "metadata": {
        "id": "bOgepR4fTjOW",
        "colab_type": "text"
      },
      "source": [
        "The train and test data are provided via data loaders that provide iterators over the datasets. The first element of training data (`X_train`) is a 4th-order tensor of size (`batch_size`, 1, 28, 28), i.e. it consists of a batch of images of size 1x28x28 pixels. `y_train` is a vector containing the correct classes (\"0\", \"1\", ..., \"9\") for each training digit."
      ]
    },
    {
      "cell_type": "code",
      "metadata": {
        "id": "urIcwAvfTjOX",
        "colab_type": "code",
        "colab": {
          "base_uri": "https://localhost:8080/",
          "height": 53
        },
        "outputId": "05b78468-9b8b-48aa-d40b-4a3734233f1b"
      },
      "source": [
        "for (X_train, y_train) in train_loader:\n",
        "    print('X_train:', X_train.size(), 'type:', X_train.type())\n",
        "    print('y_train:', y_train.size(), 'type:', y_train.type())\n",
        "    break"
      ],
      "execution_count": 5,
      "outputs": [
        {
          "output_type": "stream",
          "text": [
            "X_train: torch.Size([32, 1, 28, 28]) type: torch.FloatTensor\n",
            "y_train: torch.Size([32]) type: torch.LongTensor\n"
          ],
          "name": "stdout"
        }
      ]
    },
    {
      "cell_type": "markdown",
      "metadata": {
        "id": "YmJ8taHITjOZ",
        "colab_type": "text"
      },
      "source": [
        "Here are the first 10 training digits:"
      ]
    },
    {
      "cell_type": "code",
      "metadata": {
        "id": "DtVIcb8cTjOZ",
        "colab_type": "code",
        "colab": {
          "base_uri": "https://localhost:8080/",
          "height": 94
        },
        "outputId": "6abdfb28-6170-4c72-d803-a827120516db"
      },
      "source": [
        "pltsize=1\n",
        "plt.figure(figsize=(10*pltsize, pltsize))\n",
        "\n",
        "for i in range(10):\n",
        "    plt.subplot(1,10,i+1)\n",
        "    plt.axis('off')\n",
        "    plt.imshow(X_train[i,:,:,:].numpy().reshape(28,28), cmap=\"gray\")\n",
        "    plt.title(str(y_train[i].item()))"
      ],
      "execution_count": 40,
      "outputs": [
        {
          "output_type": "display_data",
          "data": {
            "image/png": "[encoded data removed]",
            "text/plain": [
              "<Figure size 720x72 with 10 Axes>"
            ]
          },
          "metadata": {
            "tags": [],
            "needs_background": "light"
          }
        }
      ]
    },
    {
      "cell_type": "markdown",
      "metadata": {
        "id": "zgDuua_LTjOb",
        "colab_type": "text"
      },
      "source": [
        "## MLP network definition\n",
        "\n",
        "Let's define the network as a Python class.  We have to write the `__init__()` and `forward()` methods, and PyTorch will automatically generate a `backward()` method for computing the gradients for the backward pass.\n",
        "\n",
        "Finally, we define an optimizer to update the model parameters based on the computed gradients.  We select *stochastic gradient descent (with momentum)* as the optimization algorithm, and set *learning rate* to 0.01.  Note that there are [several different options](http://pytorch.org/docs/optim.html#algorithms) for the optimizer in PyTorch that we could use instead of *SGD*."
      ]
    },
    {
      "cell_type": "code",
      "metadata": {
        "id": "MpDUQIYITjOc",
        "colab_type": "code",
        "colab": {
          "base_uri": "https://localhost:8080/",
          "height": 143
        },
        "outputId": "185a8638-8483-4970-8ddd-9e06e38d335f"
      },
      "source": [
        "class Net(nn.Module):\n",
        "    def __init__(self):\n",
        "        super(Net, self).__init__()\n",
        "        self.fc1 = nn.Linear(28*28, 50)\n",
        "        self.fc1_drop = nn.Dropout(0.2)\n",
        "        self.fc2 = nn.Linear(50, 50)\n",
        "        self.fc2_drop = nn.Dropout(0.2)\n",
        "        self.fc3 = nn.Linear(50, 10)\n",
        "\n",
        "    def forward(self, x):\n",
        "        x = x.view(-1, 28*28)\n",
        "        x = F.relu(self.fc1(x))\n",
        "        x = self.fc1_drop(x)\n",
        "        x = F.relu(self.fc2(x))\n",
        "        x = self.fc2_drop(x)\n",
        "        return F.log_softmax(self.fc3(x))\n",
        "\n",
        "model = Net()\n",
        "if cuda:\n",
        "    model.cuda()\n",
        "    \n",
        "optimizer = optim.SGD(model.parameters(), lr=0.01)\n",
        "\n",
        "print(model)"
      ],
      "execution_count": 7,
      "outputs": [
        {
          "output_type": "stream",
          "text": [
            "Net(\n",
            "  (fc1): Linear(in_features=784, out_features=50, bias=True)\n",
            "  (fc1_drop): Dropout(p=0.2, inplace=False)\n",
            "  (fc2): Linear(in_features=50, out_features=50, bias=True)\n",
            "  (fc2_drop): Dropout(p=0.2, inplace=False)\n",
            "  (fc3): Linear(in_features=50, out_features=10, bias=True)\n",
            ")\n"
          ],
          "name": "stdout"
        }
      ]
    },
    {
      "cell_type": "markdown",
      "metadata": {
        "id": "_9Aeva1UTjOe",
        "colab_type": "text"
      },
      "source": [
        "## Learning\n",
        "\n",
        "Let's now define functions to `train()` and `test()` the model. "
      ]
    },
    {
      "cell_type": "code",
      "metadata": {
        "id": "Ugkvns52TjOe",
        "colab_type": "code",
        "colab": {}
      },
      "source": [
        "def train(epoch, log_interval=100):\n",
        "    model.train()\n",
        "    for batch_idx, (data, target) in enumerate(train_loader):\n",
        "        if cuda:\n",
        "            data, target = data.cuda(), target.cuda()\n",
        "        data, target = Variable(data), Variable(target)\n",
        "        optimizer.zero_grad()\n",
        "        output = model(data)\n",
        "        loss = F.nll_loss(output, target)\n",
        "        loss.backward()\n",
        "        optimizer.step()\n",
        "\n",
        "        if batch_idx % log_interval == 0:\n",
        "            print('Train Epoch: {} [{}/{} ({:.0f}%)]\\tLoss: {:.6f}'.format(\n",
        "                epoch, batch_idx * len(data), len(train_loader.dataset),\n",
        "                100. * batch_idx / len(train_loader), loss.data.item()))"
      ],
      "execution_count": 32,
      "outputs": []
    },
    {
      "cell_type": "code",
      "metadata": {
        "id": "_yLVwQhLTjOg",
        "colab_type": "code",
        "colab": {}
      },
      "source": [
        "def validate(loss_vector, accuracy_vector):\n",
        "    model.eval()\n",
        "    val_loss, correct = 0, 0\n",
        "    for data, target in validation_loader:\n",
        "        if cuda:\n",
        "            data, target = data.cuda(), target.cuda()\n",
        "        data, target = Variable(data, volatile=True), Variable(target)\n",
        "        output = model(data)\n",
        "        val_loss += F.nll_loss(output, target).data.item()\n",
        "        pred = output.data.max(1)[1] # get the index of the max log-probability\n",
        "        correct += pred.eq(target.data).cpu().sum()\n",
        "\n",
        "    val_loss /= len(validation_loader)\n",
        "    loss_vector.append(val_loss)\n",
        "\n",
        "    accuracy = 100. * correct / len(validation_loader.dataset)\n",
        "    accuracy_vector.append(accuracy)\n",
        "    \n",
        "    print('\\nValidation set: Average loss: {:.4f}, Accuracy: {}/{} ({:.0f}%)\\n'.format(\n",
        "        val_loss, correct, len(validation_loader.dataset), accuracy))"
      ],
      "execution_count": 33,
      "outputs": []
    },
    {
      "cell_type": "markdown",
      "metadata": {
        "id": "Wq1fuQVoTjOi",
        "colab_type": "text"
      },
      "source": [
        "Now we are ready to train our model using the `train()` function.  An *epoch* means one pass through the whole training data. After each epoch, we evaluate the model using `test()`. "
      ]
    },
    {
      "cell_type": "code",
      "metadata": {
        "id": "wIomf0vqTjOi",
        "colab_type": "code",
        "colab": {
          "base_uri": "https://localhost:8080/",
          "height": 1000
        },
        "outputId": "f6a3faae-86b3-451d-8d14-fc3a29b5b104"
      },
      "source": [
        "# %%time\n",
        "epochs = 10\n",
        "\n",
        "lossv, accv = [], []\n",
        "for epoch in range(1, epochs + 1):\n",
        "    train(epoch)\n",
        "    validate(lossv, accv)"
      ],
      "execution_count": 34,
      "outputs": [
        {
          "output_type": "stream",
          "text": [
            "/usr/local/lib/python3.6/dist-packages/ipykernel_launcher.py:16: UserWarning: Implicit dimension choice for log_softmax has been deprecated. Change the call to include dim=X as an argument.\n",
            "  app.launch_new_instance()\n"
          ],
          "name": "stderr"
        },
        {
          "output_type": "stream",
          "text": [
            "Train Epoch: 1 [0/60000 (0%)]\tLoss: 0.202052\n",
            "Train Epoch: 1 [3200/60000 (5%)]\tLoss: 0.532601\n",
            "Train Epoch: 1 [6400/60000 (11%)]\tLoss: 0.524938\n",
            "Train Epoch: 1 [9600/60000 (16%)]\tLoss: 0.259090\n",
            "Train Epoch: 1 [12800/60000 (21%)]\tLoss: 0.701309\n",
            "Train Epoch: 1 [16000/60000 (27%)]\tLoss: 0.270131\n",
            "Train Epoch: 1 [19200/60000 (32%)]\tLoss: 0.334579\n",
            "Train Epoch: 1 [22400/60000 (37%)]\tLoss: 0.578550\n",
            "Train Epoch: 1 [25600/60000 (43%)]\tLoss: 0.400054\n",
            "Train Epoch: 1 [28800/60000 (48%)]\tLoss: 0.417631\n",
            "Train Epoch: 1 [32000/60000 (53%)]\tLoss: 0.283484\n",
            "Train Epoch: 1 [35200/60000 (59%)]\tLoss: 0.226649\n",
            "Train Epoch: 1 [38400/60000 (64%)]\tLoss: 0.346907\n",
            "Train Epoch: 1 [41600/60000 (69%)]\tLoss: 0.283061\n",
            "Train Epoch: 1 [44800/60000 (75%)]\tLoss: 0.427159\n",
            "Train Epoch: 1 [48000/60000 (80%)]\tLoss: 0.560809\n",
            "Train Epoch: 1 [51200/60000 (85%)]\tLoss: 0.600795\n",
            "Train Epoch: 1 [54400/60000 (91%)]\tLoss: 0.302090\n",
            "Train Epoch: 1 [57600/60000 (96%)]\tLoss: 0.073839\n"
          ],
          "name": "stdout"
        },
        {
          "output_type": "stream",
          "text": [
            "/usr/local/lib/python3.6/dist-packages/ipykernel_launcher.py:7: UserWarning: volatile was removed and now has no effect. Use `with torch.no_grad():` instead.\n",
            "  import sys\n"
          ],
          "name": "stderr"
        },
        {
          "output_type": "stream",
          "text": [
            "\n",
            "Validation set: Average loss: 0.2134, Accuracy: 9380/10000 (94%)\n",
            "\n",
            "Train Epoch: 2 [0/60000 (0%)]\tLoss: 0.316830\n",
            "Train Epoch: 2 [3200/60000 (5%)]\tLoss: 0.478577\n",
            "Train Epoch: 2 [6400/60000 (11%)]\tLoss: 0.595334\n",
            "Train Epoch: 2 [9600/60000 (16%)]\tLoss: 0.399509\n",
            "Train Epoch: 2 [12800/60000 (21%)]\tLoss: 0.329888\n",
            "Train Epoch: 2 [16000/60000 (27%)]\tLoss: 0.301682\n",
            "Train Epoch: 2 [19200/60000 (32%)]\tLoss: 0.314705\n",
            "Train Epoch: 2 [22400/60000 (37%)]\tLoss: 0.554712\n",
            "Train Epoch: 2 [25600/60000 (43%)]\tLoss: 0.226707\n",
            "Train Epoch: 2 [28800/60000 (48%)]\tLoss: 0.394727\n",
            "Train Epoch: 2 [32000/60000 (53%)]\tLoss: 0.706848\n",
            "Train Epoch: 2 [35200/60000 (59%)]\tLoss: 0.375200\n",
            "Train Epoch: 2 [38400/60000 (64%)]\tLoss: 0.349752\n",
            "Train Epoch: 2 [41600/60000 (69%)]\tLoss: 0.127119\n",
            "Train Epoch: 2 [44800/60000 (75%)]\tLoss: 0.536360\n",
            "Train Epoch: 2 [48000/60000 (80%)]\tLoss: 0.196783\n",
            "Train Epoch: 2 [51200/60000 (85%)]\tLoss: 0.285162\n",
            "Train Epoch: 2 [54400/60000 (91%)]\tLoss: 0.233185\n",
            "Train Epoch: 2 [57600/60000 (96%)]\tLoss: 0.274164\n",
            "\n",
            "Validation set: Average loss: 0.1831, Accuracy: 9454/10000 (95%)\n",
            "\n",
            "Train Epoch: 3 [0/60000 (0%)]\tLoss: 0.305671\n",
            "Train Epoch: 3 [3200/60000 (5%)]\tLoss: 0.089271\n",
            "Train Epoch: 3 [6400/60000 (11%)]\tLoss: 0.393870\n",
            "Train Epoch: 3 [9600/60000 (16%)]\tLoss: 0.181676\n",
            "Train Epoch: 3 [12800/60000 (21%)]\tLoss: 0.240591\n",
            "Train Epoch: 3 [16000/60000 (27%)]\tLoss: 0.301368\n",
            "Train Epoch: 3 [19200/60000 (32%)]\tLoss: 0.599944\n",
            "Train Epoch: 3 [22400/60000 (37%)]\tLoss: 0.243275\n",
            "Train Epoch: 3 [25600/60000 (43%)]\tLoss: 0.259697\n",
            "Train Epoch: 3 [28800/60000 (48%)]\tLoss: 0.108546\n",
            "Train Epoch: 3 [32000/60000 (53%)]\tLoss: 0.242345\n",
            "Train Epoch: 3 [35200/60000 (59%)]\tLoss: 0.404348\n",
            "Train Epoch: 3 [38400/60000 (64%)]\tLoss: 0.170096\n",
            "Train Epoch: 3 [41600/60000 (69%)]\tLoss: 0.205821\n",
            "Train Epoch: 3 [44800/60000 (75%)]\tLoss: 0.194691\n",
            "Train Epoch: 3 [48000/60000 (80%)]\tLoss: 0.113490\n",
            "Train Epoch: 3 [51200/60000 (85%)]\tLoss: 0.245616\n",
            "Train Epoch: 3 [54400/60000 (91%)]\tLoss: 0.265412\n",
            "Train Epoch: 3 [57600/60000 (96%)]\tLoss: 0.355198\n",
            "\n",
            "Validation set: Average loss: 0.1650, Accuracy: 9514/10000 (95%)\n",
            "\n",
            "Train Epoch: 4 [0/60000 (0%)]\tLoss: 0.350868\n",
            "Train Epoch: 4 [3200/60000 (5%)]\tLoss: 0.077299\n",
            "Train Epoch: 4 [6400/60000 (11%)]\tLoss: 0.169034\n",
            "Train Epoch: 4 [9600/60000 (16%)]\tLoss: 0.164558\n",
            "Train Epoch: 4 [12800/60000 (21%)]\tLoss: 0.210141\n",
            "Train Epoch: 4 [16000/60000 (27%)]\tLoss: 0.126099\n",
            "Train Epoch: 4 [19200/60000 (32%)]\tLoss: 0.163101\n",
            "Train Epoch: 4 [22400/60000 (37%)]\tLoss: 0.206177\n",
            "Train Epoch: 4 [25600/60000 (43%)]\tLoss: 0.223144\n",
            "Train Epoch: 4 [28800/60000 (48%)]\tLoss: 0.157019\n",
            "Train Epoch: 4 [32000/60000 (53%)]\tLoss: 0.180915\n",
            "Train Epoch: 4 [35200/60000 (59%)]\tLoss: 0.152857\n",
            "Train Epoch: 4 [38400/60000 (64%)]\tLoss: 0.365487\n",
            "Train Epoch: 4 [41600/60000 (69%)]\tLoss: 0.089562\n",
            "Train Epoch: 4 [44800/60000 (75%)]\tLoss: 0.290157\n",
            "Train Epoch: 4 [48000/60000 (80%)]\tLoss: 0.397581\n",
            "Train Epoch: 4 [51200/60000 (85%)]\tLoss: 0.737130\n",
            "Train Epoch: 4 [54400/60000 (91%)]\tLoss: 0.134397\n",
            "Train Epoch: 4 [57600/60000 (96%)]\tLoss: 0.112600\n",
            "\n",
            "Validation set: Average loss: 0.1466, Accuracy: 9545/10000 (95%)\n",
            "\n",
            "Train Epoch: 5 [0/60000 (0%)]\tLoss: 0.515473\n",
            "Train Epoch: 5 [3200/60000 (5%)]\tLoss: 0.258211\n",
            "Train Epoch: 5 [6400/60000 (11%)]\tLoss: 0.082174\n",
            "Train Epoch: 5 [9600/60000 (16%)]\tLoss: 0.163878\n",
            "Train Epoch: 5 [12800/60000 (21%)]\tLoss: 0.163682\n",
            "Train Epoch: 5 [16000/60000 (27%)]\tLoss: 0.190323\n",
            "Train Epoch: 5 [19200/60000 (32%)]\tLoss: 0.245109\n",
            "Train Epoch: 5 [22400/60000 (37%)]\tLoss: 0.184147\n",
            "Train Epoch: 5 [25600/60000 (43%)]\tLoss: 0.245061\n",
            "Train Epoch: 5 [28800/60000 (48%)]\tLoss: 0.256527\n",
            "Train Epoch: 5 [32000/60000 (53%)]\tLoss: 0.160088\n",
            "Train Epoch: 5 [35200/60000 (59%)]\tLoss: 0.047953\n",
            "Train Epoch: 5 [38400/60000 (64%)]\tLoss: 0.566235\n",
            "Train Epoch: 5 [41600/60000 (69%)]\tLoss: 0.259674\n",
            "Train Epoch: 5 [44800/60000 (75%)]\tLoss: 0.055481\n",
            "Train Epoch: 5 [48000/60000 (80%)]\tLoss: 0.367820\n",
            "Train Epoch: 5 [51200/60000 (85%)]\tLoss: 0.240866\n",
            "Train Epoch: 5 [54400/60000 (91%)]\tLoss: 0.205257\n",
            "Train Epoch: 5 [57600/60000 (96%)]\tLoss: 0.134832\n",
            "\n",
            "Validation set: Average loss: 0.1377, Accuracy: 9586/10000 (96%)\n",
            "\n",
            "Train Epoch: 6 [0/60000 (0%)]\tLoss: 0.438336\n",
            "Train Epoch: 6 [3200/60000 (5%)]\tLoss: 0.085553\n",
            "Train Epoch: 6 [6400/60000 (11%)]\tLoss: 0.168703\n",
            "Train Epoch: 6 [9600/60000 (16%)]\tLoss: 0.384072\n",
            "Train Epoch: 6 [12800/60000 (21%)]\tLoss: 0.141468\n",
            "Train Epoch: 6 [16000/60000 (27%)]\tLoss: 0.251363\n",
            "Train Epoch: 6 [19200/60000 (32%)]\tLoss: 0.173447\n",
            "Train Epoch: 6 [22400/60000 (37%)]\tLoss: 0.090735\n",
            "Train Epoch: 6 [25600/60000 (43%)]\tLoss: 0.159476\n",
            "Train Epoch: 6 [28800/60000 (48%)]\tLoss: 0.153150\n",
            "Train Epoch: 6 [32000/60000 (53%)]\tLoss: 0.113390\n",
            "Train Epoch: 6 [35200/60000 (59%)]\tLoss: 0.097017\n",
            "Train Epoch: 6 [38400/60000 (64%)]\tLoss: 0.120848\n",
            "Train Epoch: 6 [41600/60000 (69%)]\tLoss: 0.227542\n",
            "Train Epoch: 6 [44800/60000 (75%)]\tLoss: 0.309262\n",
            "Train Epoch: 6 [48000/60000 (80%)]\tLoss: 0.129914\n",
            "Train Epoch: 6 [51200/60000 (85%)]\tLoss: 0.034890\n",
            "Train Epoch: 6 [54400/60000 (91%)]\tLoss: 0.097629\n",
            "Train Epoch: 6 [57600/60000 (96%)]\tLoss: 0.145551\n",
            "\n",
            "Validation set: Average loss: 0.1299, Accuracy: 9603/10000 (96%)\n",
            "\n",
            "Train Epoch: 7 [0/60000 (0%)]\tLoss: 0.240241\n",
            "Train Epoch: 7 [3200/60000 (5%)]\tLoss: 0.232111\n",
            "Train Epoch: 7 [6400/60000 (11%)]\tLoss: 0.157717\n",
            "Train Epoch: 7 [9600/60000 (16%)]\tLoss: 0.306509\n",
            "Train Epoch: 7 [12800/60000 (21%)]\tLoss: 0.728441\n",
            "Train Epoch: 7 [16000/60000 (27%)]\tLoss: 0.226202\n",
            "Train Epoch: 7 [19200/60000 (32%)]\tLoss: 0.217304\n",
            "Train Epoch: 7 [22400/60000 (37%)]\tLoss: 0.344153\n",
            "Train Epoch: 7 [25600/60000 (43%)]\tLoss: 0.132305\n",
            "Train Epoch: 7 [28800/60000 (48%)]\tLoss: 0.153159\n",
            "Train Epoch: 7 [32000/60000 (53%)]\tLoss: 0.114227\n",
            "Train Epoch: 7 [35200/60000 (59%)]\tLoss: 0.178879\n",
            "Train Epoch: 7 [38400/60000 (64%)]\tLoss: 0.375301\n",
            "Train Epoch: 7 [41600/60000 (69%)]\tLoss: 0.056373\n",
            "Train Epoch: 7 [44800/60000 (75%)]\tLoss: 0.151291\n",
            "Train Epoch: 7 [48000/60000 (80%)]\tLoss: 0.132935\n",
            "Train Epoch: 7 [51200/60000 (85%)]\tLoss: 0.069862\n",
            "Train Epoch: 7 [54400/60000 (91%)]\tLoss: 0.386472\n",
            "Train Epoch: 7 [57600/60000 (96%)]\tLoss: 0.115760\n",
            "\n",
            "Validation set: Average loss: 0.1213, Accuracy: 9628/10000 (96%)\n",
            "\n",
            "Train Epoch: 8 [0/60000 (0%)]\tLoss: 0.044389\n",
            "Train Epoch: 8 [3200/60000 (5%)]\tLoss: 0.014733\n",
            "Train Epoch: 8 [6400/60000 (11%)]\tLoss: 0.169281\n",
            "Train Epoch: 8 [9600/60000 (16%)]\tLoss: 0.088786\n",
            "Train Epoch: 8 [12800/60000 (21%)]\tLoss: 0.039803\n",
            "Train Epoch: 8 [16000/60000 (27%)]\tLoss: 0.167571\n",
            "Train Epoch: 8 [19200/60000 (32%)]\tLoss: 0.325274\n",
            "Train Epoch: 8 [22400/60000 (37%)]\tLoss: 0.072940\n",
            "Train Epoch: 8 [25600/60000 (43%)]\tLoss: 0.056772\n",
            "Train Epoch: 8 [28800/60000 (48%)]\tLoss: 0.289839\n",
            "Train Epoch: 8 [32000/60000 (53%)]\tLoss: 0.051973\n",
            "Train Epoch: 8 [35200/60000 (59%)]\tLoss: 0.110362\n",
            "Train Epoch: 8 [38400/60000 (64%)]\tLoss: 0.136485\n",
            "Train Epoch: 8 [41600/60000 (69%)]\tLoss: 0.388005\n",
            "Train Epoch: 8 [44800/60000 (75%)]\tLoss: 0.221915\n",
            "Train Epoch: 8 [48000/60000 (80%)]\tLoss: 0.193829\n",
            "Train Epoch: 8 [51200/60000 (85%)]\tLoss: 0.250373\n",
            "Train Epoch: 8 [54400/60000 (91%)]\tLoss: 0.093686\n",
            "Train Epoch: 8 [57600/60000 (96%)]\tLoss: 0.137861\n",
            "\n",
            "Validation set: Average loss: 0.1187, Accuracy: 9634/10000 (96%)\n",
            "\n",
            "Train Epoch: 9 [0/60000 (0%)]\tLoss: 0.231715\n",
            "Train Epoch: 9 [3200/60000 (5%)]\tLoss: 0.046475\n",
            "Train Epoch: 9 [6400/60000 (11%)]\tLoss: 0.377181\n",
            "Train Epoch: 9 [9600/60000 (16%)]\tLoss: 0.050914\n",
            "Train Epoch: 9 [12800/60000 (21%)]\tLoss: 0.035434\n",
            "Train Epoch: 9 [16000/60000 (27%)]\tLoss: 0.195875\n",
            "Train Epoch: 9 [19200/60000 (32%)]\tLoss: 0.044399\n",
            "Train Epoch: 9 [22400/60000 (37%)]\tLoss: 0.163103\n",
            "Train Epoch: 9 [25600/60000 (43%)]\tLoss: 0.127469\n",
            "Train Epoch: 9 [28800/60000 (48%)]\tLoss: 0.078398\n",
            "Train Epoch: 9 [32000/60000 (53%)]\tLoss: 0.322422\n",
            "Train Epoch: 9 [35200/60000 (59%)]\tLoss: 0.192926\n",
            "Train Epoch: 9 [38400/60000 (64%)]\tLoss: 0.186749\n",
            "Train Epoch: 9 [41600/60000 (69%)]\tLoss: 0.062992\n",
            "Train Epoch: 9 [44800/60000 (75%)]\tLoss: 0.212078\n",
            "Train Epoch: 9 [48000/60000 (80%)]\tLoss: 0.188650\n",
            "Train Epoch: 9 [51200/60000 (85%)]\tLoss: 0.348159\n",
            "Train Epoch: 9 [54400/60000 (91%)]\tLoss: 0.109851\n",
            "Train Epoch: 9 [57600/60000 (96%)]\tLoss: 0.564573\n",
            "\n",
            "Validation set: Average loss: 0.1149, Accuracy: 9659/10000 (97%)\n",
            "\n",
            "Train Epoch: 10 [0/60000 (0%)]\tLoss: 0.311120\n",
            "Train Epoch: 10 [3200/60000 (5%)]\tLoss: 0.476528\n",
            "Train Epoch: 10 [6400/60000 (11%)]\tLoss: 0.181364\n",
            "Train Epoch: 10 [9600/60000 (16%)]\tLoss: 0.182509\n",
            "Train Epoch: 10 [12800/60000 (21%)]\tLoss: 0.160431\n",
            "Train Epoch: 10 [16000/60000 (27%)]\tLoss: 0.168005\n",
            "Train Epoch: 10 [19200/60000 (32%)]\tLoss: 0.114947\n",
            "Train Epoch: 10 [22400/60000 (37%)]\tLoss: 0.165264\n",
            "Train Epoch: 10 [25600/60000 (43%)]\tLoss: 0.350751\n",
            "Train Epoch: 10 [28800/60000 (48%)]\tLoss: 0.264389\n",
            "Train Epoch: 10 [32000/60000 (53%)]\tLoss: 0.246285\n",
            "Train Epoch: 10 [35200/60000 (59%)]\tLoss: 0.067378\n",
            "Train Epoch: 10 [38400/60000 (64%)]\tLoss: 0.306871\n",
            "Train Epoch: 10 [41600/60000 (69%)]\tLoss: 0.077848\n",
            "Train Epoch: 10 [44800/60000 (75%)]\tLoss: 0.077068\n",
            "Train Epoch: 10 [48000/60000 (80%)]\tLoss: 0.183239\n",
            "Train Epoch: 10 [51200/60000 (85%)]\tLoss: 0.126985\n",
            "Train Epoch: 10 [54400/60000 (91%)]\tLoss: 0.194049\n",
            "Train Epoch: 10 [57600/60000 (96%)]\tLoss: 0.359758\n",
            "\n",
            "Validation set: Average loss: 0.1111, Accuracy: 9671/10000 (97%)\n",
            "\n"
          ],
          "name": "stdout"
        }
      ]
    },
    {
      "cell_type": "markdown",
      "metadata": {
        "id": "0ZMoZ-YLTjOl",
        "colab_type": "text"
      },
      "source": [
        "Let's now visualize how the training progressed. \n",
        "\n",
        "* *Loss* is a function of the difference of the network output and the target values.  We are minimizing the loss function during training so it should decrease over time.\n",
        "* *Accuracy* is the classification accuracy for the test data."
      ]
    },
    {
      "cell_type": "code",
      "metadata": {
        "id": "_o6s8s3sTjOm",
        "colab_type": "code",
        "colab": {
          "base_uri": "https://localhost:8080/",
          "height": 550
        },
        "outputId": "6f357e8f-c79e-4722-bf31-6882f5457f8b"
      },
      "source": [
        "plt.figure(figsize=(5,3))\n",
        "plt.plot(np.arange(1,epochs+1), lossv)\n",
        "plt.title('validation loss')\n",
        "\n",
        "plt.figure(figsize=(5,3))\n",
        "plt.plot(np.arange(1,epochs+1), accv)\n",
        "plt.title('validation accuracy');\n",
        "\n",
        "pltsize=1\n",
        "plt.figure(figsize=(10*pltsize, pltsize))\n",
        "\n",
        "for i in range(10):\n",
        "    plt.subplot(1,10,i+1)\n",
        "    plt.axis('off')\n",
        "    plt.imshow(X_train[i,:,:,:].numpy().reshape(28,28), cmap=\"gray\")\n",
        "    plt.title(str(model(X_train[i,:,:,:].cuda()).data.max(1)[1].item()))\n"
      ],
      "execution_count": 39,
      "outputs": [
        {
          "output_type": "stream",
          "text": [
            "/usr/local/lib/python3.6/dist-packages/ipykernel_launcher.py:16: UserWarning: Implicit dimension choice for log_softmax has been deprecated. Change the call to include dim=X as an argument.\n",
            "  app.launch_new_instance()\n"
          ],
          "name": "stderr"
        },
        {
          "output_type": "display_data",
          "data": {
            "image/png": "[encoded data removed]",
            "text/plain": [
              "<Figure size 360x216 with 1 Axes>"
            ]
          },
          "metadata": {
            "tags": [],
            "needs_background": "light"
          }
        },
        {
          "output_type": "display_data",
          "data": {
            "image/png": "[encoded data removed]",
            "text/plain": [
              "<Figure size 360x216 with 1 Axes>"
            ]
          },
          "metadata": {
            "tags": [],
            "needs_background": "light"
          }
        },
        {
          "output_type": "display_data",
          "data": {
            "image/png": "[encoded data removed]",
            "text/plain": [
              "<Figure size 720x72 with 10 Axes>"
            ]
          },
          "metadata": {
            "tags": [],
            "needs_background": "light"
          }
        }
      ]
    }
  ]
}
